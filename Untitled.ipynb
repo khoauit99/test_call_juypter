{
 "cells": [
  {
   "cell_type": "code",
   "execution_count": 1,
   "id": "aae43b1d",
   "metadata": {},
   "outputs": [
    {
     "name": "stdout",
     "output_type": "stream",
     "text": [
      "On branch main\r\n",
      "Your branch is up to date with 'origin/main'.\r\n",
      "\r\n",
      "Untracked files:\r\n",
      "  (use \"git add <file>...\" to include in what will be committed)\r\n",
      "\t\u001b[31m.ipynb_checkpoints/\u001b[m\r\n",
      "\t\u001b[31mUntitled.ipynb\u001b[m\r\n",
      "\r\n",
      "nothing added to commit but untracked files present (use \"git add\" to track)\r\n"
     ]
    }
   ],
   "source": [
    "! git status "
   ]
  },
  {
   "cell_type": "code",
   "execution_count": 2,
   "id": "7773947e",
   "metadata": {},
   "outputs": [
    {
     "name": "stdout",
     "output_type": "stream",
     "text": [
      "nhi\n"
     ]
    }
   ],
   "source": [
    "print(\"nhi\")"
   ]
  },
  {
   "cell_type": "code",
   "execution_count": 3,
   "id": "78a76328",
   "metadata": {},
   "outputs": [
    {
     "name": "stdout",
     "output_type": "stream",
     "text": [
      "On branch main\r\n",
      "Your branch is up to date with 'origin/main'.\r\n",
      "\r\n",
      "Untracked files:\r\n",
      "  (use \"git add <file>...\" to include in what will be committed)\r\n",
      "\t\u001b[31m.ipynb_checkpoints/\u001b[m\r\n",
      "\t\u001b[31mUntitled.ipynb\u001b[m\r\n",
      "\r\n",
      "nothing added to commit but untracked files present (use \"git add\" to track)\r\n"
     ]
    }
   ],
   "source": [
    "! git status "
   ]
  },
  {
   "cell_type": "code",
   "execution_count": 4,
   "id": "9ed37676",
   "metadata": {},
   "outputs": [],
   "source": [
    "! git add Untitled.ipynb"
   ]
  },
  {
   "cell_type": "code",
   "execution_count": 5,
   "id": "5748c6d0",
   "metadata": {},
   "outputs": [
    {
     "name": "stdout",
     "output_type": "stream",
     "text": [
      "[main 565e20a] init\r\n",
      " 1 file changed, 6 insertions(+)\r\n",
      " create mode 100644 Untitled.ipynb\r\n"
     ]
    }
   ],
   "source": [
    "! git commit -m \"init\""
   ]
  },
  {
   "cell_type": "code",
   "execution_count": 6,
   "id": "da1e9d35",
   "metadata": {},
   "outputs": [
    {
     "name": "stdout",
     "output_type": "stream",
     "text": [
      "Enumerating objects: 4, done.\n",
      "Counting objects: 100% (4/4), done.\n",
      "Delta compression using up to 8 threads\n",
      "Compressing objects: 100% (3/3), done.\n",
      "Writing objects: 100% (3/3), 341 bytes | 341.00 KiB/s, done.\n",
      "Total 3 (delta 0), reused 0 (delta 0)\n",
      "To github.com:khoauit99/test_call_juypter.git\n",
      "   3aa8f5e..565e20a  main -> main\n"
     ]
    }
   ],
   "source": [
    "! git push"
   ]
  },
  {
   "cell_type": "code",
   "execution_count": null,
   "id": "23346912",
   "metadata": {},
   "outputs": [],
   "source": []
  }
 ],
 "metadata": {
  "kernelspec": {
   "display_name": "Python 3 (ipykernel)",
   "language": "python",
   "name": "python3"
  },
  "language_info": {
   "codemirror_mode": {
    "name": "ipython",
    "version": 3
   },
   "file_extension": ".py",
   "mimetype": "text/x-python",
   "name": "python",
   "nbconvert_exporter": "python",
   "pygments_lexer": "ipython3",
   "version": "3.8.10"
  }
 },
 "nbformat": 4,
 "nbformat_minor": 5
}
